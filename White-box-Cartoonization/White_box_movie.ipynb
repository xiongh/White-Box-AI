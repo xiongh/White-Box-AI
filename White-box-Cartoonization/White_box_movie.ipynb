{
  "nbformat": 4,
  "nbformat_minor": 0,
  "metadata": {
    "accelerator": "GPU",
    "colab": {
      "name": "White_box_movie",
      "provenance": [],
      "collapsed_sections": [],
      "authorship_tag": "ABX9TyOSukGTMq5SKpShrrNWmRjr",
      "include_colab_link": true
    },
    "kernelspec": {
      "display_name": "Python 3",
      "name": "python3"
    }
  },
  "cells": [
    {
      "cell_type": "markdown",
      "metadata": {
        "id": "view-in-github",
        "colab_type": "text"
      },
      "source": [
        "<a href=\"https://colab.research.google.com/github/cedro3/White-box-Cartoonization/blob/master/White_box_movie.ipynb\" target=\"_parent\"><img src=\"https://colab.research.google.com/assets/colab-badge.svg\" alt=\"Open In Colab\"/></a>"
      ]
    },
    {
      "cell_type": "markdown",
      "metadata": {
        "id": "W4EnBMkLgjnO"
      },
      "source": [
        "# セットアップ"
      ]
    },
    {
      "cell_type": "code",
      "metadata": {
        "id": "2LHaPHxq4YL8"
      },
      "source": [
        "%tensorflow_version 1.x\n",
        "!git clone https://github.com/cedro3/White-box-Cartoonization.git\n",
        "%cd White-box-Cartoonization/test_code/\n"
      ],
      "execution_count": null,
      "outputs": []
    },
    {
      "cell_type": "markdown",
      "metadata": {
        "id": "1IkGf7tOlhw6"
      },
      "source": [
        "# ビデオを確認"
      ]
    },
    {
      "cell_type": "code",
      "metadata": {
        "id": "8QR8M-u6lQqL"
      },
      "source": [
        "# mp4動画の再生\n",
        "from IPython.display import HTML\n",
        "from base64 import b64encode\n",
        "\n",
        "mp4 = open('./test_video/sakura.mp4', 'rb').read()\n",
        "data_url = 'data:video/mp4;base64,' + b64encode(mp4).decode()\n",
        "HTML(f\"\"\"\n",
        "<video width=\"80%\" height=\"80%\" controls>\n",
        "      <source src=\"{data_url}\" type=\"video/mp4\">\n",
        "</video>\"\"\")"
      ],
      "execution_count": null,
      "outputs": []
    },
    {
      "cell_type": "markdown",
      "metadata": {
        "id": "7nlkg9Lsf-Fy"
      },
      "source": [
        "# ビデオを静止画に変換"
      ]
    },
    {
      "cell_type": "code",
      "metadata": {
        "id": "lZzosx2T70Pc"
      },
      "source": [
        "import os\n",
        "import shutil\n",
        "import cv2\n",
        "\n",
        "# 既に test_images フォルダーがあれば削除し、test_images フォルダーを作る\n",
        "if os.path.isdir('test_images'):\n",
        "    shutil.rmtree('test_images')\n",
        "os.makedirs('test_images', exist_ok=True)\n",
        " \n",
        "def video_2_images(video_file= './test_video/sakura.mp4',   # ビデオの指定\n",
        "                   image_dir='./test_images/', \n",
        "                   image_file='%s.jpg'):  \n",
        " \n",
        "    # Initial setting\n",
        "    i = 0\n",
        "    interval = 1\n",
        "    length = 3000  # 最大フレーム数\n",
        "    \n",
        "    cap = cv2.VideoCapture(video_file)\n",
        "    while(cap.isOpened()):\n",
        "        flag, frame = cap.read()  \n",
        "        if flag == False:  \n",
        "                break\n",
        "        if i == length*interval:\n",
        "                break\n",
        "        if i % interval == 0:    \n",
        "           cv2.imwrite(image_dir+image_file % str(int(i/interval)).zfill(6), frame)\n",
        "        i += 1 \n",
        "    cap.release()  \n",
        " \n",
        "def main():\n",
        "    video_2_images()\n",
        "    \n",
        "if __name__ == '__main__':\n",
        "    main()"
      ],
      "execution_count": null,
      "outputs": []
    },
    {
      "cell_type": "markdown",
      "metadata": {
        "id": "0E_RpfCEgbVU"
      },
      "source": [
        "# 静止画をアニメ画に変換"
      ]
    },
    {
      "cell_type": "code",
      "metadata": {
        "id": "A6yD4qbx5X7a"
      },
      "source": [
        "# 既に cartoonized_imagesフォルダーがあれば削除\n",
        "if os.path.isdir('cartoonized_images'):\n",
        "    shutil.rmtree('cartoonized_images')\n",
        "\n",
        "# images フォルダー内にある静止画をアニメ画に変換し、cartoonized_images フォルダーに保存する\n",
        "!python cartoonize.py"
      ],
      "execution_count": null,
      "outputs": []
    },
    {
      "cell_type": "markdown",
      "metadata": {
        "id": "4FgBQvFrgqMi"
      },
      "source": [
        "# アニメ画をmp4動画に変換"
      ]
    },
    {
      "cell_type": "code",
      "metadata": {
        "id": "MmvrC0jt76c8"
      },
      "source": [
        "# 既に output.mp4 があれば削除する\n",
        "if os.path.exists('./output.mp4'):\n",
        "   os.remove('./output.mp4')\n",
        "\n",
        "# アニメ画をmp4動画(output.mp4)に変換する\n",
        "!ffmpeg -r 30 -i cartoonized_images/%06d.jpg -vcodec libx264 -pix_fmt yuv420p output.mp4"
      ],
      "execution_count": null,
      "outputs": []
    },
    {
      "cell_type": "code",
      "metadata": {
        "colab": {
          "background_save": true
        },
        "id": "JFVFKu5Nk-Mz"
      },
      "source": [
        "# mp4動画の再生\n",
        "from IPython.display import HTML\n",
        "from base64 import b64encode\n",
        "\n",
        "mp4 = open('./output.mp4', 'rb').read()\n",
        "data_url = 'data:video/mp4;base64,' + b64encode(mp4).decode()\n",
        "HTML(f\"\"\"\n",
        "<video width=\"80%\" height=\"80%\" controls>\n",
        "      <source src=\"{data_url}\" type=\"video/mp4\">\n",
        "</video>\"\"\")"
      ],
      "execution_count": null,
      "outputs": []
    }
  ]
}