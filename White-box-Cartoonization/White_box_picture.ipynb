{
  "nbformat": 4,
  "nbformat_minor": 0,
  "metadata": {
    "accelerator": "GPU",
    "colab": {
      "name": "White_box_picture",
      "provenance": [],
      "toc_visible": true,
      "authorship_tag": "ABX9TyMZPDVCEdW+8V7k76fLf5Je",
      "include_colab_link": true
    },
    "kernelspec": {
      "display_name": "Python 3",
      "name": "python3"
    }
  },
  "cells": [
    {
      "cell_type": "markdown",
      "metadata": {
        "id": "view-in-github",
        "colab_type": "text"
      },
      "source": [
        "<a href=\"https://colab.research.google.com/github/cedro3/White-box-Cartoonization/blob/master/White_box_picture.ipynb\" target=\"_parent\"><img src=\"https://colab.research.google.com/assets/colab-badge.svg\" alt=\"Open In Colab\"/></a>"
      ]
    },
    {
      "cell_type": "markdown",
      "metadata": {
        "id": "x8FGDvvox1o7"
      },
      "source": [
        "# セットアップ"
      ]
    },
    {
      "cell_type": "code",
      "metadata": {
        "id": "0fqJV7xixs63"
      },
      "source": [
        "%tensorflow_version 1.x\n",
        "!git clone https://github.com/cedro3/White-box-Cartoonization.git\n",
        "%cd White-box-Cartoonization/test_code/"
      ],
      "execution_count": null,
      "outputs": []
    },
    {
      "cell_type": "markdown",
      "metadata": {
        "id": "eUysgNgGx58D"
      },
      "source": [
        "# 静止画をアニメ画に変換"
      ]
    },
    {
      "cell_type": "code",
      "metadata": {
        "id": "2ZEcdiQoyINa"
      },
      "source": [
        "# images フォルダー内にある静止画をアニメ画に変換し、cartoonized_images フォルダーに保存する\n",
        "!python cartoonize.py"
      ],
      "execution_count": null,
      "outputs": []
    },
    {
      "cell_type": "markdown",
      "metadata": {
        "id": "BNnM29NZyrRq"
      },
      "source": [
        "# アニメ画を表示"
      ]
    },
    {
      "cell_type": "code",
      "metadata": {
        "colab": {
          "background_save": true
        },
        "id": "oX2_4ejayMKH"
      },
      "source": [
        "# アニメ画を表示\n",
        "from google.colab.patches import cv2_imshow\n",
        "import cv2\n",
        "import glob\n",
        "\n",
        "for i in glob.glob('cartoonized_images/*.jpg'):\n",
        "  img = cv2.imread(i, cv2.IMREAD_UNCHANGED)\n",
        "  cv2_imshow(img)"
      ],
      "execution_count": null,
      "outputs": []
    }
  ]
}